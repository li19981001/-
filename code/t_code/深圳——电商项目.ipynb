{
 "cells": [
  {
   "cell_type": "code",
   "execution_count": 1,
   "metadata": {},
   "outputs": [],
   "source": [
    "import re\n",
    "import os\n",
    "import glob\n",
    "import numpy as np\n",
    "import pandas as pd\n",
    "import matplotlib.pyplot as plt\n",
    "import seaborn as sns\n",
    "from sklearn.linear_model import LinearRegression"
   ]
  },
  {
   "cell_type": "markdown",
   "metadata": {},
   "source": [
    "# 驱虫市场潜力分析"
   ]
  },
  {
   "cell_type": "code",
   "execution_count": 2,
   "metadata": {},
   "outputs": [],
   "source": [
    "# 切换目录\n",
    "os.chdir('E:\\深圳千锋\\coding\\data\\驱虫剂市场')"
   ]
  },
  {
   "cell_type": "code",
   "execution_count": 3,
   "metadata": {},
   "outputs": [
    {
     "data": {
      "text/plain": [
       "['灭鼠杀虫剂市场近三年交易额.xlsx',\n",
       " '电蚊香套装市场近三年交易额.xlsx',\n",
       " '盘香灭蟑香蚊香盘市场近三年交易额.xlsx',\n",
       " '蚊香加热器市场近三年交易额.xlsx',\n",
       " '蚊香液市场近三年交易额.xlsx',\n",
       " '蚊香片市场近三年交易额.xlsx',\n",
       " '防霉防蛀片市场近三年交易额.xlsx']"
      ]
     },
     "execution_count": 3,
     "metadata": {},
     "output_type": "execute_result"
    }
   ],
   "source": [
    "filenames1 = glob.glob(\"*市场近三年交易额.xlsx\")\n",
    "filenames1"
   ]
  },
  {
   "cell_type": "code",
   "execution_count": 4,
   "metadata": {},
   "outputs": [
    {
     "data": {
      "text/plain": [
       "'灭鼠杀虫剂'"
      ]
     },
     "execution_count": 4,
     "metadata": {},
     "output_type": "execute_result"
    }
   ],
   "source": [
    "# 回顾一下re.search()方法\n",
    "re.search(r'.*(?=市场)','灭鼠杀虫剂市场近三年交易额.xlsx').group()"
   ]
  },
  {
   "cell_type": "markdown",
   "metadata": {},
   "source": [
    "- 定义函数，读取单个excel文件，转换成DataFrame,改变列名，\n",
    "  时间列变为datetime类型，并将时间列变为index"
   ]
  },
  {
   "cell_type": "code",
   "execution_count": 5,
   "metadata": {},
   "outputs": [],
   "source": [
    "def read_3threes(filename):\n",
    "    colname = re.search(r'.*(?=市场)',filename).group() # 提取文件名中“市场”前面的文字\n",
    "    df = pd.read_excel(filename) \n",
    "    if df['时间'].dtypes == 'int64':\n",
    "        # 将“时间”列的数据类型转变为datetime类型\n",
    "        df['时间'] = pd.to_datetime(df['时间'],unit='D',origin=pd.Timestamp('1899-12-30'))\n",
    "    df.rename(columns={df.columns[1]:colname},inplace=True) # 修改第二列的列名\n",
    "    df.set_index('时间',inplace=True)\n",
    "    return df\n",
    "    "
   ]
  },
  {
   "cell_type": "code",
   "execution_count": 6,
   "metadata": {},
   "outputs": [],
   "source": [
    "# 分别读取七个文件，并转换成DataFrame,存入列表中\n",
    "dfs = [read_3threes(filename) for filename in filenames1]"
   ]
  },
  {
   "cell_type": "code",
   "execution_count": 7,
   "metadata": {},
   "outputs": [
    {
     "data": {
      "text/html": [
       "<div>\n",
       "<style scoped>\n",
       "    .dataframe tbody tr th:only-of-type {\n",
       "        vertical-align: middle;\n",
       "    }\n",
       "\n",
       "    .dataframe tbody tr th {\n",
       "        vertical-align: top;\n",
       "    }\n",
       "\n",
       "    .dataframe thead th {\n",
       "        text-align: right;\n",
       "    }\n",
       "</style>\n",
       "<table border=\"1\" class=\"dataframe\">\n",
       "  <thead>\n",
       "    <tr style=\"text-align: right;\">\n",
       "      <th></th>\n",
       "      <th>时间</th>\n",
       "      <th>灭鼠杀虫剂</th>\n",
       "      <th>电蚊香套装</th>\n",
       "      <th>盘香灭蟑香蚊香盘</th>\n",
       "      <th>蚊香加热器</th>\n",
       "      <th>蚊香液</th>\n",
       "      <th>蚊香片</th>\n",
       "      <th>防霉防蛀片</th>\n",
       "    </tr>\n",
       "  </thead>\n",
       "  <tbody>\n",
       "    <tr>\n",
       "      <th>0</th>\n",
       "      <td>2018-10-01</td>\n",
       "      <td>1.136548e+08</td>\n",
       "      <td>106531.29</td>\n",
       "      <td>4171283.35</td>\n",
       "      <td>315639.48</td>\n",
       "      <td>7814546.15</td>\n",
       "      <td>1032414.29</td>\n",
       "      <td>8541153.59</td>\n",
       "    </tr>\n",
       "    <tr>\n",
       "      <th>1</th>\n",
       "      <td>2018-09-01</td>\n",
       "      <td>1.440261e+08</td>\n",
       "      <td>105666.63</td>\n",
       "      <td>6784500.17</td>\n",
       "      <td>457366.41</td>\n",
       "      <td>10654973.47</td>\n",
       "      <td>1566651.88</td>\n",
       "      <td>8825870.43</td>\n",
       "    </tr>\n",
       "    <tr>\n",
       "      <th>2</th>\n",
       "      <td>2018-08-01</td>\n",
       "      <td>1.540426e+08</td>\n",
       "      <td>201467.03</td>\n",
       "      <td>10709683.41</td>\n",
       "      <td>746513.13</td>\n",
       "      <td>17835577.80</td>\n",
       "      <td>2617149.00</td>\n",
       "      <td>6320153.44</td>\n",
       "    </tr>\n",
       "    <tr>\n",
       "      <th>3</th>\n",
       "      <td>2018-07-01</td>\n",
       "      <td>1.480032e+08</td>\n",
       "      <td>438635.29</td>\n",
       "      <td>16589184.89</td>\n",
       "      <td>1871757.00</td>\n",
       "      <td>38877917.83</td>\n",
       "      <td>6209040.06</td>\n",
       "      <td>6302595.06</td>\n",
       "    </tr>\n",
       "    <tr>\n",
       "      <th>4</th>\n",
       "      <td>2018-06-01</td>\n",
       "      <td>1.359438e+08</td>\n",
       "      <td>953749.78</td>\n",
       "      <td>23526385.73</td>\n",
       "      <td>3641025.92</td>\n",
       "      <td>76499091.86</td>\n",
       "      <td>12484919.63</td>\n",
       "      <td>7047206.98</td>\n",
       "    </tr>\n",
       "  </tbody>\n",
       "</table>\n",
       "</div>"
      ],
      "text/plain": [
       "          时间         灭鼠杀虫剂      电蚊香套装     盘香灭蟑香蚊香盘       蚊香加热器          蚊香液  \\\n",
       "0 2018-10-01  1.136548e+08  106531.29   4171283.35   315639.48   7814546.15   \n",
       "1 2018-09-01  1.440261e+08  105666.63   6784500.17   457366.41  10654973.47   \n",
       "2 2018-08-01  1.540426e+08  201467.03  10709683.41   746513.13  17835577.80   \n",
       "3 2018-07-01  1.480032e+08  438635.29  16589184.89  1871757.00  38877917.83   \n",
       "4 2018-06-01  1.359438e+08  953749.78  23526385.73  3641025.92  76499091.86   \n",
       "\n",
       "           蚊香片       防霉防蛀片  \n",
       "0   1032414.29  8541153.59  \n",
       "1   1566651.88  8825870.43  \n",
       "2   2617149.00  6320153.44  \n",
       "3   6209040.06  6302595.06  \n",
       "4  12484919.63  7047206.98  "
      ]
     },
     "execution_count": 7,
     "metadata": {},
     "output_type": "execute_result"
    }
   ],
   "source": [
    "# 将7个DataFrame在axis=1的方向拼接\n",
    "df = pd.concat(dfs,axis=1).reset_index()\n",
    "df.head()"
   ]
  },
  {
   "cell_type": "markdown",
   "metadata": {},
   "source": [
    "- 查看各列的数据缺失情况"
   ]
  },
  {
   "cell_type": "code",
   "execution_count": 8,
   "metadata": {},
   "outputs": [
    {
     "data": {
      "text/plain": [
       "时间          0.0\n",
       "灭鼠杀虫剂       0.0\n",
       "电蚊香套装       0.0\n",
       "盘香灭蟑香蚊香盘    0.0\n",
       "蚊香加热器       0.0\n",
       "蚊香液         0.0\n",
       "蚊香片         0.0\n",
       "防霉防蛀片       0.0\n",
       "dtype: float64"
      ]
     },
     "execution_count": 8,
     "metadata": {},
     "output_type": "execute_result"
    }
   ],
   "source": [
    "df.isna().mean()"
   ]
  },
  {
   "cell_type": "markdown",
   "metadata": {},
   "source": [
    "- 抽取df的所有月份，以供后面使用"
   ]
  },
  {
   "cell_type": "code",
   "execution_count": 9,
   "metadata": {},
   "outputs": [
    {
     "data": {
      "text/plain": [
       "0     10\n",
       "1      9\n",
       "2      8\n",
       "3      7\n",
       "4      6\n",
       "5      5\n",
       "6      4\n",
       "7      3\n",
       "8      2\n",
       "9      1\n",
       "10    12\n",
       "11    11\n",
       "12    10\n",
       "13     9\n",
       "14     8\n",
       "15     7\n",
       "16     6\n",
       "17     5\n",
       "18     4\n",
       "19     3\n",
       "20     2\n",
       "21     1\n",
       "22    12\n",
       "23    11\n",
       "24    10\n",
       "25     9\n",
       "26     8\n",
       "27     7\n",
       "28     6\n",
       "29     5\n",
       "30     4\n",
       "31     3\n",
       "32     2\n",
       "33     1\n",
       "34    12\n",
       "35    11\n",
       "Name: 时间, dtype: int64"
      ]
     },
     "execution_count": 9,
     "metadata": {},
     "output_type": "execute_result"
    }
   ],
   "source": [
    "month = df['时间'].dt.month\n",
    "month"
   ]
  },
  {
   "cell_type": "markdown",
   "metadata": {},
   "source": [
    "- 循环预测2018年11月、12月各子类目的销售额"
   ]
  },
  {
   "cell_type": "code",
   "execution_count": 10,
   "metadata": {},
   "outputs": [
    {
     "data": {
      "text/html": [
       "<div>\n",
       "<style scoped>\n",
       "    .dataframe tbody tr th:only-of-type {\n",
       "        vertical-align: middle;\n",
       "    }\n",
       "\n",
       "    .dataframe tbody tr th {\n",
       "        vertical-align: top;\n",
       "    }\n",
       "\n",
       "    .dataframe thead th {\n",
       "        text-align: right;\n",
       "    }\n",
       "</style>\n",
       "<table border=\"1\" class=\"dataframe\">\n",
       "  <thead>\n",
       "    <tr style=\"text-align: right;\">\n",
       "      <th></th>\n",
       "      <th>时间</th>\n",
       "      <th>灭鼠杀虫剂</th>\n",
       "      <th>电蚊香套装</th>\n",
       "      <th>盘香灭蟑香蚊香盘</th>\n",
       "      <th>蚊香加热器</th>\n",
       "      <th>蚊香液</th>\n",
       "      <th>蚊香片</th>\n",
       "      <th>防霉防蛀片</th>\n",
       "    </tr>\n",
       "  </thead>\n",
       "  <tbody>\n",
       "    <tr>\n",
       "      <th>11</th>\n",
       "      <td>2017-11-01</td>\n",
       "      <td>58382172.96</td>\n",
       "      <td>94993.76</td>\n",
       "      <td>1581530.20</td>\n",
       "      <td>168141.79</td>\n",
       "      <td>4257593.87</td>\n",
       "      <td>617094.94</td>\n",
       "      <td>5447184.43</td>\n",
       "    </tr>\n",
       "    <tr>\n",
       "      <th>23</th>\n",
       "      <td>2016-11-01</td>\n",
       "      <td>47806248.76</td>\n",
       "      <td>106291.23</td>\n",
       "      <td>1473418.20</td>\n",
       "      <td>82835.82</td>\n",
       "      <td>2758827.44</td>\n",
       "      <td>512990.23</td>\n",
       "      <td>4975519.21</td>\n",
       "    </tr>\n",
       "    <tr>\n",
       "      <th>35</th>\n",
       "      <td>2015-11-01</td>\n",
       "      <td>33038726.31</td>\n",
       "      <td>185094.22</td>\n",
       "      <td>1197791.27</td>\n",
       "      <td>86889.91</td>\n",
       "      <td>1579795.72</td>\n",
       "      <td>325744.43</td>\n",
       "      <td>3364112.14</td>\n",
       "    </tr>\n",
       "  </tbody>\n",
       "</table>\n",
       "</div>"
      ],
      "text/plain": [
       "           时间        灭鼠杀虫剂      电蚊香套装    盘香灭蟑香蚊香盘      蚊香加热器         蚊香液  \\\n",
       "11 2017-11-01  58382172.96   94993.76  1581530.20  168141.79  4257593.87   \n",
       "23 2016-11-01  47806248.76  106291.23  1473418.20   82835.82  2758827.44   \n",
       "35 2015-11-01  33038726.31  185094.22  1197791.27   86889.91  1579795.72   \n",
       "\n",
       "          蚊香片       防霉防蛀片  \n",
       "11  617094.94  5447184.43  \n",
       "23  512990.23  4975519.21  \n",
       "35  325744.43  3364112.14  "
      ]
     },
     "execution_count": 10,
     "metadata": {},
     "output_type": "execute_result"
    }
   ],
   "source": [
    "dm_test = df[month==11]\n",
    "dm_test"
   ]
  },
  {
   "cell_type": "code",
   "execution_count": 11,
   "metadata": {},
   "outputs": [
    {
     "name": "stderr",
     "output_type": "stream",
     "text": [
      "E:\\Anaconda3\\lib\\site-packages\\ipykernel_launcher.py:2: UserWarning: Boolean Series key will be reindexed to match DataFrame index.\n",
      "  \n"
     ]
    }
   ],
   "source": [
    "for i in [11,12]:\n",
    "    dm = df[month==i] # 从df中抽取对应月份的记录\n",
    "    Xtrain = np.array(dm['时间'].dt.year).reshape(-1,1)\n",
    "    y_hat = [pd.datetime(2018,i,1)]\n",
    "    for j in range(1,len(dm.columns)):  # 遍历对应月份的每个种类\n",
    "        ytrain = np.array(dm.iloc[:,j])  # 获取对应种类的交易金额，作为训练样本集标签\n",
    "        reg = LinearRegression()\n",
    "        reg.fit(Xtrain,ytrain)\n",
    "        y_predict = reg.predict(np.array([2018]).reshape(-1,1))\n",
    "        y_hat.append(y_predict)\n",
    "    newrow = pd.DataFrame(dict(zip(df.columns,y_hat)))\n",
    "    df = newrow.append(df)  # 将预测的结果加到df中"
   ]
  },
  {
   "cell_type": "code",
   "execution_count": 13,
   "metadata": {},
   "outputs": [],
   "source": [
    "df.reset_index(drop=True,inplace=True) # 删除原索引，重置索引"
   ]
  },
  {
   "cell_type": "code",
   "execution_count": 14,
   "metadata": {},
   "outputs": [
    {
     "data": {
      "text/html": [
       "<div>\n",
       "<style scoped>\n",
       "    .dataframe tbody tr th:only-of-type {\n",
       "        vertical-align: middle;\n",
       "    }\n",
       "\n",
       "    .dataframe tbody tr th {\n",
       "        vertical-align: top;\n",
       "    }\n",
       "\n",
       "    .dataframe thead th {\n",
       "        text-align: right;\n",
       "    }\n",
       "</style>\n",
       "<table border=\"1\" class=\"dataframe\">\n",
       "  <thead>\n",
       "    <tr style=\"text-align: right;\">\n",
       "      <th></th>\n",
       "      <th>时间</th>\n",
       "      <th>灭鼠杀虫剂</th>\n",
       "      <th>电蚊香套装</th>\n",
       "      <th>盘香灭蟑香蚊香盘</th>\n",
       "      <th>蚊香加热器</th>\n",
       "      <th>蚊香液</th>\n",
       "      <th>蚊香片</th>\n",
       "      <th>防霉防蛀片</th>\n",
       "    </tr>\n",
       "  </thead>\n",
       "  <tbody>\n",
       "    <tr>\n",
       "      <th>0</th>\n",
       "      <td>2018-12-01</td>\n",
       "      <td>5.256763e+07</td>\n",
       "      <td>50204.53</td>\n",
       "      <td>9.285543e+05</td>\n",
       "      <td>86849.166667</td>\n",
       "      <td>3.081492e+06</td>\n",
       "      <td>4.268126e+05</td>\n",
       "      <td>3958717.58</td>\n",
       "    </tr>\n",
       "    <tr>\n",
       "      <th>1</th>\n",
       "      <td>2018-11-01</td>\n",
       "      <td>7.175250e+07</td>\n",
       "      <td>38692.61</td>\n",
       "      <td>1.801319e+06</td>\n",
       "      <td>193874.386667</td>\n",
       "      <td>5.543204e+06</td>\n",
       "      <td>7.766270e+05</td>\n",
       "      <td>6678677.55</td>\n",
       "    </tr>\n",
       "    <tr>\n",
       "      <th>2</th>\n",
       "      <td>2018-10-01</td>\n",
       "      <td>1.136548e+08</td>\n",
       "      <td>106531.29</td>\n",
       "      <td>4.171283e+06</td>\n",
       "      <td>315639.480000</td>\n",
       "      <td>7.814546e+06</td>\n",
       "      <td>1.032414e+06</td>\n",
       "      <td>8541153.59</td>\n",
       "    </tr>\n",
       "    <tr>\n",
       "      <th>3</th>\n",
       "      <td>2018-09-01</td>\n",
       "      <td>1.440261e+08</td>\n",
       "      <td>105666.63</td>\n",
       "      <td>6.784500e+06</td>\n",
       "      <td>457366.410000</td>\n",
       "      <td>1.065497e+07</td>\n",
       "      <td>1.566652e+06</td>\n",
       "      <td>8825870.43</td>\n",
       "    </tr>\n",
       "    <tr>\n",
       "      <th>4</th>\n",
       "      <td>2018-08-01</td>\n",
       "      <td>1.540426e+08</td>\n",
       "      <td>201467.03</td>\n",
       "      <td>1.070968e+07</td>\n",
       "      <td>746513.130000</td>\n",
       "      <td>1.783558e+07</td>\n",
       "      <td>2.617149e+06</td>\n",
       "      <td>6320153.44</td>\n",
       "    </tr>\n",
       "  </tbody>\n",
       "</table>\n",
       "</div>"
      ],
      "text/plain": [
       "          时间         灭鼠杀虫剂      电蚊香套装      盘香灭蟑香蚊香盘          蚊香加热器  \\\n",
       "0 2018-12-01  5.256763e+07   50204.53  9.285543e+05   86849.166667   \n",
       "1 2018-11-01  7.175250e+07   38692.61  1.801319e+06  193874.386667   \n",
       "2 2018-10-01  1.136548e+08  106531.29  4.171283e+06  315639.480000   \n",
       "3 2018-09-01  1.440261e+08  105666.63  6.784500e+06  457366.410000   \n",
       "4 2018-08-01  1.540426e+08  201467.03  1.070968e+07  746513.130000   \n",
       "\n",
       "            蚊香液           蚊香片       防霉防蛀片  \n",
       "0  3.081492e+06  4.268126e+05  3958717.58  \n",
       "1  5.543204e+06  7.766270e+05  6678677.55  \n",
       "2  7.814546e+06  1.032414e+06  8541153.59  \n",
       "3  1.065497e+07  1.566652e+06  8825870.43  \n",
       "4  1.783558e+07  2.617149e+06  6320153.44  "
      ]
     },
     "execution_count": 14,
     "metadata": {},
     "output_type": "execute_result"
    }
   ],
   "source": [
    "df.head()"
   ]
  },
  {
   "cell_type": "markdown",
   "metadata": {},
   "source": [
    "- 删除2015年的记录"
   ]
  },
  {
   "cell_type": "code",
   "execution_count": 15,
   "metadata": {},
   "outputs": [],
   "source": [
    "df = df[df['时间'].dt.year!=2015]"
   ]
  },
  {
   "cell_type": "markdown",
   "metadata": {},
   "source": [
    "- 添加新列，用来存储每年的交易金额总和"
   ]
  },
  {
   "cell_type": "code",
   "execution_count": 19,
   "metadata": {},
   "outputs": [
    {
     "data": {
      "text/html": [
       "<div>\n",
       "<style scoped>\n",
       "    .dataframe tbody tr th:only-of-type {\n",
       "        vertical-align: middle;\n",
       "    }\n",
       "\n",
       "    .dataframe tbody tr th {\n",
       "        vertical-align: top;\n",
       "    }\n",
       "\n",
       "    .dataframe thead th {\n",
       "        text-align: right;\n",
       "    }\n",
       "</style>\n",
       "<table border=\"1\" class=\"dataframe\">\n",
       "  <thead>\n",
       "    <tr style=\"text-align: right;\">\n",
       "      <th></th>\n",
       "      <th>时间</th>\n",
       "      <th>灭鼠杀虫剂</th>\n",
       "      <th>电蚊香套装</th>\n",
       "      <th>盘香灭蟑香蚊香盘</th>\n",
       "      <th>蚊香加热器</th>\n",
       "      <th>蚊香液</th>\n",
       "      <th>蚊香片</th>\n",
       "      <th>防霉防蛀片</th>\n",
       "      <th>colsum</th>\n",
       "    </tr>\n",
       "  </thead>\n",
       "  <tbody>\n",
       "    <tr>\n",
       "      <th>0</th>\n",
       "      <td>2018-12-01</td>\n",
       "      <td>5.256763e+07</td>\n",
       "      <td>50204.53</td>\n",
       "      <td>9.285543e+05</td>\n",
       "      <td>86849.166667</td>\n",
       "      <td>3.081492e+06</td>\n",
       "      <td>4.268126e+05</td>\n",
       "      <td>3958717.58</td>\n",
       "      <td>6.110026e+07</td>\n",
       "    </tr>\n",
       "    <tr>\n",
       "      <th>1</th>\n",
       "      <td>2018-11-01</td>\n",
       "      <td>7.175250e+07</td>\n",
       "      <td>38692.61</td>\n",
       "      <td>1.801319e+06</td>\n",
       "      <td>193874.386667</td>\n",
       "      <td>5.543204e+06</td>\n",
       "      <td>7.766270e+05</td>\n",
       "      <td>6678677.55</td>\n",
       "      <td>8.678489e+07</td>\n",
       "    </tr>\n",
       "    <tr>\n",
       "      <th>2</th>\n",
       "      <td>2018-10-01</td>\n",
       "      <td>1.136548e+08</td>\n",
       "      <td>106531.29</td>\n",
       "      <td>4.171283e+06</td>\n",
       "      <td>315639.480000</td>\n",
       "      <td>7.814546e+06</td>\n",
       "      <td>1.032414e+06</td>\n",
       "      <td>8541153.59</td>\n",
       "      <td>1.356363e+08</td>\n",
       "    </tr>\n",
       "    <tr>\n",
       "      <th>3</th>\n",
       "      <td>2018-09-01</td>\n",
       "      <td>1.440261e+08</td>\n",
       "      <td>105666.63</td>\n",
       "      <td>6.784500e+06</td>\n",
       "      <td>457366.410000</td>\n",
       "      <td>1.065497e+07</td>\n",
       "      <td>1.566652e+06</td>\n",
       "      <td>8825870.43</td>\n",
       "      <td>1.724211e+08</td>\n",
       "    </tr>\n",
       "    <tr>\n",
       "      <th>4</th>\n",
       "      <td>2018-08-01</td>\n",
       "      <td>1.540426e+08</td>\n",
       "      <td>201467.03</td>\n",
       "      <td>1.070968e+07</td>\n",
       "      <td>746513.130000</td>\n",
       "      <td>1.783558e+07</td>\n",
       "      <td>2.617149e+06</td>\n",
       "      <td>6320153.44</td>\n",
       "      <td>1.924731e+08</td>\n",
       "    </tr>\n",
       "  </tbody>\n",
       "</table>\n",
       "</div>"
      ],
      "text/plain": [
       "          时间         灭鼠杀虫剂      电蚊香套装      盘香灭蟑香蚊香盘          蚊香加热器  \\\n",
       "0 2018-12-01  5.256763e+07   50204.53  9.285543e+05   86849.166667   \n",
       "1 2018-11-01  7.175250e+07   38692.61  1.801319e+06  193874.386667   \n",
       "2 2018-10-01  1.136548e+08  106531.29  4.171283e+06  315639.480000   \n",
       "3 2018-09-01  1.440261e+08  105666.63  6.784500e+06  457366.410000   \n",
       "4 2018-08-01  1.540426e+08  201467.03  1.070968e+07  746513.130000   \n",
       "\n",
       "            蚊香液           蚊香片       防霉防蛀片        colsum  \n",
       "0  3.081492e+06  4.268126e+05  3958717.58  6.110026e+07  \n",
       "1  5.543204e+06  7.766270e+05  6678677.55  8.678489e+07  \n",
       "2  7.814546e+06  1.032414e+06  8541153.59  1.356363e+08  \n",
       "3  1.065497e+07  1.566652e+06  8825870.43  1.724211e+08  \n",
       "4  1.783558e+07  2.617149e+06  6320153.44  1.924731e+08  "
      ]
     },
     "execution_count": 19,
     "metadata": {},
     "output_type": "execute_result"
    }
   ],
   "source": [
    "df['colsum'] = df.sum(1)\n",
    "df.head()"
   ]
  },
  {
   "cell_type": "markdown",
   "metadata": {},
   "source": [
    "- 插入一个年分列'year'"
   ]
  },
  {
   "cell_type": "code",
   "execution_count": 20,
   "metadata": {},
   "outputs": [],
   "source": [
    "df.insert(1,'year',df['时间'].dt.year)"
   ]
  },
  {
   "cell_type": "code",
   "execution_count": 22,
   "metadata": {},
   "outputs": [
    {
     "data": {
      "text/html": [
       "<div>\n",
       "<style scoped>\n",
       "    .dataframe tbody tr th:only-of-type {\n",
       "        vertical-align: middle;\n",
       "    }\n",
       "\n",
       "    .dataframe tbody tr th {\n",
       "        vertical-align: top;\n",
       "    }\n",
       "\n",
       "    .dataframe thead th {\n",
       "        text-align: right;\n",
       "    }\n",
       "</style>\n",
       "<table border=\"1\" class=\"dataframe\">\n",
       "  <thead>\n",
       "    <tr style=\"text-align: right;\">\n",
       "      <th></th>\n",
       "      <th>时间</th>\n",
       "      <th>year</th>\n",
       "      <th>灭鼠杀虫剂</th>\n",
       "      <th>电蚊香套装</th>\n",
       "      <th>盘香灭蟑香蚊香盘</th>\n",
       "      <th>蚊香加热器</th>\n",
       "      <th>蚊香液</th>\n",
       "      <th>蚊香片</th>\n",
       "      <th>防霉防蛀片</th>\n",
       "      <th>colsum</th>\n",
       "    </tr>\n",
       "  </thead>\n",
       "  <tbody>\n",
       "    <tr>\n",
       "      <th>0</th>\n",
       "      <td>2018-12-01</td>\n",
       "      <td>2018</td>\n",
       "      <td>5.256763e+07</td>\n",
       "      <td>50204.53</td>\n",
       "      <td>9.285543e+05</td>\n",
       "      <td>86849.166667</td>\n",
       "      <td>3.081492e+06</td>\n",
       "      <td>4.268126e+05</td>\n",
       "      <td>3958717.58</td>\n",
       "      <td>6.110026e+07</td>\n",
       "    </tr>\n",
       "    <tr>\n",
       "      <th>1</th>\n",
       "      <td>2018-11-01</td>\n",
       "      <td>2018</td>\n",
       "      <td>7.175250e+07</td>\n",
       "      <td>38692.61</td>\n",
       "      <td>1.801319e+06</td>\n",
       "      <td>193874.386667</td>\n",
       "      <td>5.543204e+06</td>\n",
       "      <td>7.766270e+05</td>\n",
       "      <td>6678677.55</td>\n",
       "      <td>8.678489e+07</td>\n",
       "    </tr>\n",
       "    <tr>\n",
       "      <th>2</th>\n",
       "      <td>2018-10-01</td>\n",
       "      <td>2018</td>\n",
       "      <td>1.136548e+08</td>\n",
       "      <td>106531.29</td>\n",
       "      <td>4.171283e+06</td>\n",
       "      <td>315639.480000</td>\n",
       "      <td>7.814546e+06</td>\n",
       "      <td>1.032414e+06</td>\n",
       "      <td>8541153.59</td>\n",
       "      <td>1.356363e+08</td>\n",
       "    </tr>\n",
       "    <tr>\n",
       "      <th>3</th>\n",
       "      <td>2018-09-01</td>\n",
       "      <td>2018</td>\n",
       "      <td>1.440261e+08</td>\n",
       "      <td>105666.63</td>\n",
       "      <td>6.784500e+06</td>\n",
       "      <td>457366.410000</td>\n",
       "      <td>1.065497e+07</td>\n",
       "      <td>1.566652e+06</td>\n",
       "      <td>8825870.43</td>\n",
       "      <td>1.724211e+08</td>\n",
       "    </tr>\n",
       "    <tr>\n",
       "      <th>4</th>\n",
       "      <td>2018-08-01</td>\n",
       "      <td>2018</td>\n",
       "      <td>1.540426e+08</td>\n",
       "      <td>201467.03</td>\n",
       "      <td>1.070968e+07</td>\n",
       "      <td>746513.130000</td>\n",
       "      <td>1.783558e+07</td>\n",
       "      <td>2.617149e+06</td>\n",
       "      <td>6320153.44</td>\n",
       "      <td>1.924731e+08</td>\n",
       "    </tr>\n",
       "  </tbody>\n",
       "</table>\n",
       "</div>"
      ],
      "text/plain": [
       "          时间  year         灭鼠杀虫剂      电蚊香套装      盘香灭蟑香蚊香盘          蚊香加热器  \\\n",
       "0 2018-12-01  2018  5.256763e+07   50204.53  9.285543e+05   86849.166667   \n",
       "1 2018-11-01  2018  7.175250e+07   38692.61  1.801319e+06  193874.386667   \n",
       "2 2018-10-01  2018  1.136548e+08  106531.29  4.171283e+06  315639.480000   \n",
       "3 2018-09-01  2018  1.440261e+08  105666.63  6.784500e+06  457366.410000   \n",
       "4 2018-08-01  2018  1.540426e+08  201467.03  1.070968e+07  746513.130000   \n",
       "\n",
       "            蚊香液           蚊香片       防霉防蛀片        colsum  \n",
       "0  3.081492e+06  4.268126e+05  3958717.58  6.110026e+07  \n",
       "1  5.543204e+06  7.766270e+05  6678677.55  8.678489e+07  \n",
       "2  7.814546e+06  1.032414e+06  8541153.59  1.356363e+08  \n",
       "3  1.065497e+07  1.566652e+06  8825870.43  1.724211e+08  \n",
       "4  1.783558e+07  2.617149e+06  6320153.44  1.924731e+08  "
      ]
     },
     "execution_count": 22,
     "metadata": {},
     "output_type": "execute_result"
    }
   ],
   "source": [
    "df.head()"
   ]
  },
  {
   "cell_type": "markdown",
   "metadata": {},
   "source": [
    "- 根据年份分组，并对每一组求和,重置索引"
   ]
  },
  {
   "cell_type": "code",
   "execution_count": 25,
   "metadata": {},
   "outputs": [],
   "source": [
    "byyear = df.groupby('year').sum().reset_index()"
   ]
  },
  {
   "cell_type": "code",
   "execution_count": 26,
   "metadata": {},
   "outputs": [
    {
     "data": {
      "text/html": [
       "<div>\n",
       "<style scoped>\n",
       "    .dataframe tbody tr th:only-of-type {\n",
       "        vertical-align: middle;\n",
       "    }\n",
       "\n",
       "    .dataframe tbody tr th {\n",
       "        vertical-align: top;\n",
       "    }\n",
       "\n",
       "    .dataframe thead th {\n",
       "        text-align: right;\n",
       "    }\n",
       "</style>\n",
       "<table border=\"1\" class=\"dataframe\">\n",
       "  <thead>\n",
       "    <tr style=\"text-align: right;\">\n",
       "      <th></th>\n",
       "      <th>year</th>\n",
       "      <th>灭鼠杀虫剂</th>\n",
       "      <th>电蚊香套装</th>\n",
       "      <th>盘香灭蟑香蚊香盘</th>\n",
       "      <th>蚊香加热器</th>\n",
       "      <th>蚊香液</th>\n",
       "      <th>蚊香片</th>\n",
       "      <th>防霉防蛀片</th>\n",
       "      <th>colsum</th>\n",
       "    </tr>\n",
       "  </thead>\n",
       "  <tbody>\n",
       "    <tr>\n",
       "      <th>0</th>\n",
       "      <td>2016</td>\n",
       "      <td>6.080471e+08</td>\n",
       "      <td>7666572.12</td>\n",
       "      <td>4.785285e+07</td>\n",
       "      <td>5.905205e+06</td>\n",
       "      <td>1.704905e+08</td>\n",
       "      <td>27980839.47</td>\n",
       "      <td>50023001.94</td>\n",
       "      <td>9.179661e+08</td>\n",
       "    </tr>\n",
       "    <tr>\n",
       "      <th>1</th>\n",
       "      <td>2017</td>\n",
       "      <td>8.477740e+08</td>\n",
       "      <td>9377531.68</td>\n",
       "      <td>8.635539e+07</td>\n",
       "      <td>1.055284e+07</td>\n",
       "      <td>3.300656e+08</td>\n",
       "      <td>49068587.96</td>\n",
       "      <td>62678822.18</td>\n",
       "      <td>1.395873e+09</td>\n",
       "    </tr>\n",
       "    <tr>\n",
       "      <th>2</th>\n",
       "      <td>2018</td>\n",
       "      <td>1.137893e+09</td>\n",
       "      <td>4537682.09</td>\n",
       "      <td>1.180885e+08</td>\n",
       "      <td>1.683672e+07</td>\n",
       "      <td>3.582077e+08</td>\n",
       "      <td>51845921.56</td>\n",
       "      <td>72701365.23</td>\n",
       "      <td>1.760111e+09</td>\n",
       "    </tr>\n",
       "  </tbody>\n",
       "</table>\n",
       "</div>"
      ],
      "text/plain": [
       "   year         灭鼠杀虫剂       电蚊香套装      盘香灭蟑香蚊香盘         蚊香加热器           蚊香液  \\\n",
       "0  2016  6.080471e+08  7666572.12  4.785285e+07  5.905205e+06  1.704905e+08   \n",
       "1  2017  8.477740e+08  9377531.68  8.635539e+07  1.055284e+07  3.300656e+08   \n",
       "2  2018  1.137893e+09  4537682.09  1.180885e+08  1.683672e+07  3.582077e+08   \n",
       "\n",
       "           蚊香片        防霉防蛀片        colsum  \n",
       "0  27980839.47  50023001.94  9.179661e+08  \n",
       "1  49068587.96  62678822.18  1.395873e+09  \n",
       "2  51845921.56  72701365.23  1.760111e+09  "
      ]
     },
     "execution_count": 26,
     "metadata": {},
     "output_type": "execute_result"
    }
   ],
   "source": [
    "byyear.head()"
   ]
  },
  {
   "cell_type": "markdown",
   "metadata": {},
   "source": [
    "### 按照年份查看驱虫市场总体变化趋势"
   ]
  },
  {
   "cell_type": "code",
   "execution_count": 32,
   "metadata": {},
   "outputs": [
    {
     "data": {
      "image/png": "[encoded data removed]",
      "text/plain": [
       "<Figure size 288x288 with 1 Axes>"
      ]
     },
     "metadata": {},
     "output_type": "display_data"
    }
   ],
   "source": [
    "plt.rcParams['font.sans-serif'] = 'simhei'\n",
    "sns.relplot('year','colsum',data=byyear,kind='line',height=4,marker='o')\n",
    "plt.title('近三年驱虫市场趋势')\n",
    "plt.xticks(byyear.year,rotation=45)   # x轴刻度值和旋转角度设置\n",
    "plt.xlabel('年份')\n",
    "plt.ylabel('总交易额')\n",
    "plt.show()"
   ]
  },
  {
   "cell_type": "markdown",
   "metadata": {},
   "source": [
    "### 查看各类目市场三年内销售额总和的变化趋势"
   ]
  },
  {
   "cell_type": "code",
   "execution_count": 44,
   "metadata": {},
   "outputs": [
    {
     "data": {
      "image/png": "[encoded data removed]",
      "text/plain": [
       "<Figure size 720x432 with 1 Axes>"
      ]
     },
     "metadata": {},
     "output_type": "display_data"
    }
   ],
   "source": [
    "plt.subplots(figsize=(10,6))  # 设置绘图大小\n",
    "# 没有说明X轴与Y轴的数据，则源数据的索引值作为X轴的数据，每一列的值作为Y轴的数据\n",
    "# dashes设为False,因为默认只能显示6种种类，设置dashes为False后，不区分线型\n",
    "sns.lineplot(data=byyear.set_index('year').iloc[:,:-1],marker=\"^\",dashes=False)\n",
    "\n",
    "for x,y in zip(byyear['year'],byyear['灭鼠杀虫剂']):\n",
    "    plt.text(x,y,'%.3e'%y,ha='center',va='bottom')  # 在图中(x,y)位置加入文本\n",
    "\n",
    "plt.title('近三年各类目市场销量趋势分析')\n",
    "plt.xlabel('年份')\n",
    "plt.ylabel('总交易额')\n",
    "plt.xticks(byyear.year,rotation=45)\n",
    "plt.show()"
   ]
  },
  {
   "cell_type": "markdown",
   "metadata": {},
   "source": [
    "### 查看各类目市场三年内销售额总和的占比"
   ]
  },
  {
   "cell_type": "code",
   "execution_count": 45,
   "metadata": {},
   "outputs": [
    {
     "data": {
      "text/html": [
       "<div>\n",
       "<style scoped>\n",
       "    .dataframe tbody tr th:only-of-type {\n",
       "        vertical-align: middle;\n",
       "    }\n",
       "\n",
       "    .dataframe tbody tr th {\n",
       "        vertical-align: top;\n",
       "    }\n",
       "\n",
       "    .dataframe thead th {\n",
       "        text-align: right;\n",
       "    }\n",
       "</style>\n",
       "<table border=\"1\" class=\"dataframe\">\n",
       "  <thead>\n",
       "    <tr style=\"text-align: right;\">\n",
       "      <th></th>\n",
       "      <th>year</th>\n",
       "      <th>灭鼠杀虫剂</th>\n",
       "      <th>电蚊香套装</th>\n",
       "      <th>盘香灭蟑香蚊香盘</th>\n",
       "      <th>蚊香加热器</th>\n",
       "      <th>蚊香液</th>\n",
       "      <th>蚊香片</th>\n",
       "      <th>防霉防蛀片</th>\n",
       "      <th>colsum</th>\n",
       "    </tr>\n",
       "  </thead>\n",
       "  <tbody>\n",
       "    <tr>\n",
       "      <th>0</th>\n",
       "      <td>2016</td>\n",
       "      <td>6.080471e+08</td>\n",
       "      <td>7666572.12</td>\n",
       "      <td>4.785285e+07</td>\n",
       "      <td>5.905205e+06</td>\n",
       "      <td>1.704905e+08</td>\n",
       "      <td>27980839.47</td>\n",
       "      <td>50023001.94</td>\n",
       "      <td>9.179661e+08</td>\n",
       "    </tr>\n",
       "    <tr>\n",
       "      <th>1</th>\n",
       "      <td>2017</td>\n",
       "      <td>8.477740e+08</td>\n",
       "      <td>9377531.68</td>\n",
       "      <td>8.635539e+07</td>\n",
       "      <td>1.055284e+07</td>\n",
       "      <td>3.300656e+08</td>\n",
       "      <td>49068587.96</td>\n",
       "      <td>62678822.18</td>\n",
       "      <td>1.395873e+09</td>\n",
       "    </tr>\n",
       "    <tr>\n",
       "      <th>2</th>\n",
       "      <td>2018</td>\n",
       "      <td>1.137893e+09</td>\n",
       "      <td>4537682.09</td>\n",
       "      <td>1.180885e+08</td>\n",
       "      <td>1.683672e+07</td>\n",
       "      <td>3.582077e+08</td>\n",
       "      <td>51845921.56</td>\n",
       "      <td>72701365.23</td>\n",
       "      <td>1.760111e+09</td>\n",
       "    </tr>\n",
       "  </tbody>\n",
       "</table>\n",
       "</div>"
      ],
      "text/plain": [
       "   year         灭鼠杀虫剂       电蚊香套装      盘香灭蟑香蚊香盘         蚊香加热器           蚊香液  \\\n",
       "0  2016  6.080471e+08  7666572.12  4.785285e+07  5.905205e+06  1.704905e+08   \n",
       "1  2017  8.477740e+08  9377531.68  8.635539e+07  1.055284e+07  3.300656e+08   \n",
       "2  2018  1.137893e+09  4537682.09  1.180885e+08  1.683672e+07  3.582077e+08   \n",
       "\n",
       "           蚊香片        防霉防蛀片        colsum  \n",
       "0  27980839.47  50023001.94  9.179661e+08  \n",
       "1  49068587.96  62678822.18  1.395873e+09  \n",
       "2  51845921.56  72701365.23  1.760111e+09  "
      ]
     },
     "execution_count": 45,
     "metadata": {},
     "output_type": "execute_result"
    }
   ],
   "source": [
    "byyear"
   ]
  },
  {
   "cell_type": "code",
   "execution_count": 50,
   "metadata": {},
   "outputs": [
    {
     "data": {
      "text/html": [
       "<div>\n",
       "<style scoped>\n",
       "    .dataframe tbody tr th:only-of-type {\n",
       "        vertical-align: middle;\n",
       "    }\n",
       "\n",
       "    .dataframe tbody tr th {\n",
       "        vertical-align: top;\n",
       "    }\n",
       "\n",
       "    .dataframe thead th {\n",
       "        text-align: right;\n",
       "    }\n",
       "</style>\n",
       "<table border=\"1\" class=\"dataframe\">\n",
       "  <thead>\n",
       "    <tr style=\"text-align: right;\">\n",
       "      <th></th>\n",
       "      <th>灭鼠杀虫剂</th>\n",
       "      <th>电蚊香套装</th>\n",
       "      <th>盘香灭蟑香蚊香盘</th>\n",
       "      <th>蚊香加热器</th>\n",
       "      <th>蚊香液</th>\n",
       "      <th>蚊香片</th>\n",
       "      <th>防霉防蛀片</th>\n",
       "    </tr>\n",
       "  </thead>\n",
       "  <tbody>\n",
       "    <tr>\n",
       "      <th>0</th>\n",
       "      <td>0.662385</td>\n",
       "      <td>0.008352</td>\n",
       "      <td>0.052129</td>\n",
       "      <td>0.006433</td>\n",
       "      <td>0.185726</td>\n",
       "      <td>0.030481</td>\n",
       "      <td>0.054493</td>\n",
       "    </tr>\n",
       "    <tr>\n",
       "      <th>1</th>\n",
       "      <td>0.607343</td>\n",
       "      <td>0.006718</td>\n",
       "      <td>0.061865</td>\n",
       "      <td>0.007560</td>\n",
       "      <td>0.236458</td>\n",
       "      <td>0.035153</td>\n",
       "      <td>0.044903</td>\n",
       "    </tr>\n",
       "    <tr>\n",
       "      <th>2</th>\n",
       "      <td>0.646489</td>\n",
       "      <td>0.002578</td>\n",
       "      <td>0.067092</td>\n",
       "      <td>0.009566</td>\n",
       "      <td>0.203514</td>\n",
       "      <td>0.029456</td>\n",
       "      <td>0.041305</td>\n",
       "    </tr>\n",
       "  </tbody>\n",
       "</table>\n",
       "</div>"
      ],
      "text/plain": [
       "      灭鼠杀虫剂     电蚊香套装  盘香灭蟑香蚊香盘     蚊香加热器       蚊香液       蚊香片     防霉防蛀片\n",
       "0  0.662385  0.008352  0.052129  0.006433  0.185726  0.030481  0.054493\n",
       "1  0.607343  0.006718  0.061865  0.007560  0.236458  0.035153  0.044903\n",
       "2  0.646489  0.002578  0.067092  0.009566  0.203514  0.029456  0.041305"
      ]
     },
     "execution_count": 50,
     "metadata": {},
     "output_type": "execute_result"
    }
   ],
   "source": [
    "# 每个种类在当年的销售额占比\n",
    "byyear_per = byyear.iloc[:,1:-1].div(byyear['colsum'],axis=0)  \n",
    "byyear_per"
   ]
  },
  {
   "cell_type": "code",
   "execution_count": 51,
   "metadata": {},
   "outputs": [
    {
     "data": {
      "text/html": [
       "<div>\n",
       "<style scoped>\n",
       "    .dataframe tbody tr th:only-of-type {\n",
       "        vertical-align: middle;\n",
       "    }\n",
       "\n",
       "    .dataframe tbody tr th {\n",
       "        vertical-align: top;\n",
       "    }\n",
       "\n",
       "    .dataframe thead th {\n",
       "        text-align: right;\n",
       "    }\n",
       "</style>\n",
       "<table border=\"1\" class=\"dataframe\">\n",
       "  <thead>\n",
       "    <tr style=\"text-align: right;\">\n",
       "      <th></th>\n",
       "      <th>灭鼠杀虫剂</th>\n",
       "      <th>电蚊香套装</th>\n",
       "      <th>盘香灭蟑香蚊香盘</th>\n",
       "      <th>蚊香加热器</th>\n",
       "      <th>蚊香液</th>\n",
       "      <th>蚊香片</th>\n",
       "      <th>防霉防蛀片</th>\n",
       "    </tr>\n",
       "    <tr>\n",
       "      <th>year</th>\n",
       "      <th></th>\n",
       "      <th></th>\n",
       "      <th></th>\n",
       "      <th></th>\n",
       "      <th></th>\n",
       "      <th></th>\n",
       "      <th></th>\n",
       "    </tr>\n",
       "  </thead>\n",
       "  <tbody>\n",
       "    <tr>\n",
       "      <th>2016</th>\n",
       "      <td>0.662385</td>\n",
       "      <td>0.008352</td>\n",
       "      <td>0.052129</td>\n",
       "      <td>0.006433</td>\n",
       "      <td>0.185726</td>\n",
       "      <td>0.030481</td>\n",
       "      <td>0.054493</td>\n",
       "    </tr>\n",
       "    <tr>\n",
       "      <th>2017</th>\n",
       "      <td>0.607343</td>\n",
       "      <td>0.006718</td>\n",
       "      <td>0.061865</td>\n",
       "      <td>0.007560</td>\n",
       "      <td>0.236458</td>\n",
       "      <td>0.035153</td>\n",
       "      <td>0.044903</td>\n",
       "    </tr>\n",
       "    <tr>\n",
       "      <th>2018</th>\n",
       "      <td>0.646489</td>\n",
       "      <td>0.002578</td>\n",
       "      <td>0.067092</td>\n",
       "      <td>0.009566</td>\n",
       "      <td>0.203514</td>\n",
       "      <td>0.029456</td>\n",
       "      <td>0.041305</td>\n",
       "    </tr>\n",
       "  </tbody>\n",
       "</table>\n",
       "</div>"
      ],
      "text/plain": [
       "         灭鼠杀虫剂     电蚊香套装  盘香灭蟑香蚊香盘     蚊香加热器       蚊香液       蚊香片     防霉防蛀片\n",
       "year                                                                      \n",
       "2016  0.662385  0.008352  0.052129  0.006433  0.185726  0.030481  0.054493\n",
       "2017  0.607343  0.006718  0.061865  0.007560  0.236458  0.035153  0.044903\n",
       "2018  0.646489  0.002578  0.067092  0.009566  0.203514  0.029456  0.041305"
      ]
     },
     "execution_count": 51,
     "metadata": {},
     "output_type": "execute_result"
    }
   ],
   "source": [
    "byyear_per.index = byyear.year  # 将byyear_per的索引值设置为byyear的year列对应的值\n",
    "byyear_per"
   ]
  },
  {
   "cell_type": "markdown",
   "metadata": {},
   "source": [
    "- 直接使用byyear_per这个DataFrame画图"
   ]
  },
  {
   "cell_type": "code",
   "execution_count": 61,
   "metadata": {},
   "outputs": [
    {
     "data": {
      "image/png": "[encoded data removed]",
      "text/plain": [
       "<Figure size 720x576 with 1 Axes>"
      ]
     },
     "metadata": {},
     "output_type": "display_data"
    }
   ],
   "source": [
    "byyear_per.plot(kind='bar',stacked=True,figsize=(10,8),colormap='tab10')\n",
    "plt.title('近三年各类目市场销量占比')\n",
    "plt.xlabel('年份')\n",
    "plt.ylabel('总交易额占比')\n",
    "# 对于条形图，X轴位置从0开始\n",
    "for x,y in zip(range(len(byyear_per)),byyear_per['灭鼠杀虫剂']):\n",
    "    plt.text(x,y/2,str(round(y*100,2))+\"%\",ha='center',va='bottom',size=15)\n",
    "plt.show()"
   ]
  },
  {
   "cell_type": "code",
   "execution_count": null,
   "metadata": {},
   "outputs": [],
   "source": []
  }
 ],
 "metadata": {
  "kernelspec": {
   "display_name": "Python 3",
   "language": "python",
   "name": "python3"
  },
  "language_info": {
   "codemirror_mode": {
    "name": "ipython",
    "version": 3
   },
   "file_extension": ".py",
   "mimetype": "text/x-python",
   "name": "python",
   "nbconvert_exporter": "python",
   "pygments_lexer": "ipython3",
   "version": "3.6.5"
  }
 },
 "nbformat": 4,
 "nbformat_minor": 2
}
