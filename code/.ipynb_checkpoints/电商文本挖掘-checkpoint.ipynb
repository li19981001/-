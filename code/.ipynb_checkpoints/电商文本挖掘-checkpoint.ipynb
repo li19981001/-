{
 "cells": [
  {
   "cell_type": "code",
   "execution_count": 39,
   "metadata": {
    "ExecuteTime": {
     "end_time": "2020-10-26T07:37:14.565203Z",
     "start_time": "2020-10-26T07:37:14.558221Z"
    }
   },
   "outputs": [],
   "source": [
    "from sklearn.linear_model import LinearRegression\n",
    "import re\n",
    "import os\n",
    "import glob  # 找某个文件下的目录名\n",
    "import seaborn as sns\n",
    "import numpy as np\n",
    "import pandas as pd\n",
    "import matplotlib.pyplot as plt\n",
    "from pandas import Series, DataFrame\n",
    "plt.rcParams['font.sans-serif'] = ['KaiTi']\n",
    "plt.rcParams['axes.unicode_minus'] = False"
   ]
  },
  {
   "cell_type": "markdown",
   "metadata": {},
   "source": [
    "# 驱虫市场潜力分析"
   ]
  },
  {
   "cell_type": "code",
   "execution_count": 2,
   "metadata": {
    "ExecuteTime": {
     "end_time": "2020-10-26T07:28:01.172930Z",
     "start_time": "2020-10-26T07:28:01.167915Z"
    }
   },
   "outputs": [],
   "source": [
    "# 切换目录\n",
    "os.chdir(\"D:\\LearnJupyter\\电商文本挖掘\\电商文本挖掘\\data\\驱虫剂市场\")"
   ]
  },
  {
   "cell_type": "code",
   "execution_count": 3,
   "metadata": {
    "ExecuteTime": {
     "end_time": "2020-10-26T07:28:01.190855Z",
     "start_time": "2020-10-26T07:28:01.175893Z"
    },
    "scrolled": true
   },
   "outputs": [
    {
     "data": {
      "text/plain": [
       "['灭鼠杀虫剂市场近三年交易额.xlsx',\n",
       " '电蚊香套装市场近三年交易额.xlsx',\n",
       " '盘香灭蟑香蚊香盘市场近三年交易额.xlsx',\n",
       " '蚊香加热器市场近三年交易额.xlsx',\n",
       " '蚊香液市场近三年交易额.xlsx',\n",
       " '蚊香片市场近三年交易额.xlsx',\n",
       " '防霉防蛀片市场近三年交易额.xlsx']"
      ]
     },
     "execution_count": 3,
     "metadata": {},
     "output_type": "execute_result"
    }
   ],
   "source": [
    "filesnames1 = glob.glob(\"*市场近三年交易额*\")  # 查找目录下符合条件的文件名\n",
    "filesnames1"
   ]
  },
  {
   "cell_type": "code",
   "execution_count": 4,
   "metadata": {
    "ExecuteTime": {
     "end_time": "2020-10-26T07:28:01.200860Z",
     "start_time": "2020-10-26T07:28:01.193845Z"
    }
   },
   "outputs": [
    {
     "data": {
      "text/plain": [
       "'灭鼠杀虫剂'"
      ]
     },
     "execution_count": 4,
     "metadata": {},
     "output_type": "execute_result"
    }
   ],
   "source": [
    "re.search(r\".*(?=市场)\", '灭鼠杀虫剂市场近三年交易额.xlsx').group()  # 搜索 “市场”前面的字段"
   ]
  },
  {
   "cell_type": "markdown",
   "metadata": {},
   "source": [
    "- 定义函数，读取单个excel文件，转换成DataFrame，并重新更换列名，\n",
    "将时间列变为datetime类型并将时间列变为index"
   ]
  },
  {
   "cell_type": "code",
   "execution_count": 5,
   "metadata": {
    "ExecuteTime": {
     "end_time": "2020-10-26T07:28:01.211827Z",
     "start_time": "2020-10-26T07:28:01.203830Z"
    }
   },
   "outputs": [],
   "source": [
    "def read_threes(filename):\n",
    "    colname = re.search(r\".*(?=市场)\", filename).group()  # 提取文件名中，“市场”之前的文字\n",
    "    df = pd.read_excel(filename)\n",
    "    if df[\"时间\"].dtypes == \"int64\":\n",
    "        # unit 代表按照什么来  origin 代表时间源  pd.Timestamp(“1899-12-30”)\n",
    "        # 将“时间”列的数据类型转变为datetime类型\n",
    "        df[\"时间\"] = pd.to_datetime(\n",
    "            df[\"时间\"], unit=\"D\", origin=pd.Timestamp('1899-12-30'))\n",
    "    df.rename(columns={df.columns[1]: colname},\n",
    "              inplace=True)  # 修改第二列的列名 并将时间列变成一个index\n",
    "    df.set_index(\"时间\", inplace=True)\n",
    "    return df"
   ]
  },
  {
   "cell_type": "code",
   "execution_count": 6,
   "metadata": {
    "ExecuteTime": {
     "end_time": "2020-10-26T07:28:01.341451Z",
     "start_time": "2020-10-26T07:28:01.213792Z"
    }
   },
   "outputs": [],
   "source": [
    "# 分别读取七个文件 并转换成dataframe存入列表中\n",
    "dfs = [read_threes(filename) for filename in filesnames1]"
   ]
  },
  {
   "cell_type": "code",
   "execution_count": 7,
   "metadata": {
    "ExecuteTime": {
     "end_time": "2020-10-26T07:28:01.372368Z",
     "start_time": "2020-10-26T07:28:01.347435Z"
    },
    "scrolled": true
   },
   "outputs": [
    {
     "data": {
      "text/html": [
       "<div>\n",
       "<style scoped>\n",
       "    .dataframe tbody tr th:only-of-type {\n",
       "        vertical-align: middle;\n",
       "    }\n",
       "\n",
       "    .dataframe tbody tr th {\n",
       "        vertical-align: top;\n",
       "    }\n",
       "\n",
       "    .dataframe thead th {\n",
       "        text-align: right;\n",
       "    }\n",
       "</style>\n",
       "<table border=\"1\" class=\"dataframe\">\n",
       "  <thead>\n",
       "    <tr style=\"text-align: right;\">\n",
       "      <th></th>\n",
       "      <th>时间</th>\n",
       "      <th>灭鼠杀虫剂</th>\n",
       "      <th>电蚊香套装</th>\n",
       "      <th>盘香灭蟑香蚊香盘</th>\n",
       "      <th>蚊香加热器</th>\n",
       "      <th>蚊香液</th>\n",
       "      <th>蚊香片</th>\n",
       "      <th>防霉防蛀片</th>\n",
       "    </tr>\n",
       "  </thead>\n",
       "  <tbody>\n",
       "    <tr>\n",
       "      <th>0</th>\n",
       "      <td>2018-10-01</td>\n",
       "      <td>1.136548e+08</td>\n",
       "      <td>106531.29</td>\n",
       "      <td>4171283.35</td>\n",
       "      <td>315639.48</td>\n",
       "      <td>7814546.15</td>\n",
       "      <td>1032414.29</td>\n",
       "      <td>8541153.59</td>\n",
       "    </tr>\n",
       "    <tr>\n",
       "      <th>1</th>\n",
       "      <td>2018-09-01</td>\n",
       "      <td>1.440261e+08</td>\n",
       "      <td>105666.63</td>\n",
       "      <td>6784500.17</td>\n",
       "      <td>457366.41</td>\n",
       "      <td>10654973.47</td>\n",
       "      <td>1566651.88</td>\n",
       "      <td>8825870.43</td>\n",
       "    </tr>\n",
       "    <tr>\n",
       "      <th>2</th>\n",
       "      <td>2018-08-01</td>\n",
       "      <td>1.540426e+08</td>\n",
       "      <td>201467.03</td>\n",
       "      <td>10709683.41</td>\n",
       "      <td>746513.13</td>\n",
       "      <td>17835577.80</td>\n",
       "      <td>2617149.00</td>\n",
       "      <td>6320153.44</td>\n",
       "    </tr>\n",
       "    <tr>\n",
       "      <th>3</th>\n",
       "      <td>2018-07-01</td>\n",
       "      <td>1.480032e+08</td>\n",
       "      <td>438635.29</td>\n",
       "      <td>16589184.89</td>\n",
       "      <td>1871757.00</td>\n",
       "      <td>38877917.83</td>\n",
       "      <td>6209040.06</td>\n",
       "      <td>6302595.06</td>\n",
       "    </tr>\n",
       "    <tr>\n",
       "      <th>4</th>\n",
       "      <td>2018-06-01</td>\n",
       "      <td>1.359438e+08</td>\n",
       "      <td>953749.78</td>\n",
       "      <td>23526385.73</td>\n",
       "      <td>3641025.92</td>\n",
       "      <td>76499091.86</td>\n",
       "      <td>12484919.63</td>\n",
       "      <td>7047206.98</td>\n",
       "    </tr>\n",
       "  </tbody>\n",
       "</table>\n",
       "</div>"
      ],
      "text/plain": [
       "          时间         灭鼠杀虫剂      电蚊香套装     盘香灭蟑香蚊香盘       蚊香加热器          蚊香液  \\\n",
       "0 2018-10-01  1.136548e+08  106531.29   4171283.35   315639.48   7814546.15   \n",
       "1 2018-09-01  1.440261e+08  105666.63   6784500.17   457366.41  10654973.47   \n",
       "2 2018-08-01  1.540426e+08  201467.03  10709683.41   746513.13  17835577.80   \n",
       "3 2018-07-01  1.480032e+08  438635.29  16589184.89  1871757.00  38877917.83   \n",
       "4 2018-06-01  1.359438e+08  953749.78  23526385.73  3641025.92  76499091.86   \n",
       "\n",
       "           蚊香片       防霉防蛀片  \n",
       "0   1032414.29  8541153.59  \n",
       "1   1566651.88  8825870.43  \n",
       "2   2617149.00  6320153.44  \n",
       "3   6209040.06  6302595.06  \n",
       "4  12484919.63  7047206.98  "
      ]
     },
     "execution_count": 7,
     "metadata": {},
     "output_type": "execute_result"
    }
   ],
   "source": [
    "df = pd.concat(dfs, axis=1).reset_index()\n",
    "df.head()"
   ]
  },
  {
   "cell_type": "markdown",
   "metadata": {},
   "source": [
    "- 查看各列数据基本情况"
   ]
  },
  {
   "cell_type": "code",
   "execution_count": 8,
   "metadata": {
    "ExecuteTime": {
     "end_time": "2020-10-26T07:28:01.425228Z",
     "start_time": "2020-10-26T07:28:01.375360Z"
    },
    "scrolled": true
   },
   "outputs": [
    {
     "data": {
      "text/html": [
       "<div>\n",
       "<style scoped>\n",
       "    .dataframe tbody tr th:only-of-type {\n",
       "        vertical-align: middle;\n",
       "    }\n",
       "\n",
       "    .dataframe tbody tr th {\n",
       "        vertical-align: top;\n",
       "    }\n",
       "\n",
       "    .dataframe thead th {\n",
       "        text-align: right;\n",
       "    }\n",
       "</style>\n",
       "<table border=\"1\" class=\"dataframe\">\n",
       "  <thead>\n",
       "    <tr style=\"text-align: right;\">\n",
       "      <th></th>\n",
       "      <th>count</th>\n",
       "      <th>mean</th>\n",
       "      <th>std</th>\n",
       "      <th>min</th>\n",
       "      <th>25%</th>\n",
       "      <th>50%</th>\n",
       "      <th>75%</th>\n",
       "      <th>max</th>\n",
       "    </tr>\n",
       "  </thead>\n",
       "  <tbody>\n",
       "    <tr>\n",
       "      <th>灭鼠杀虫剂</th>\n",
       "      <td>36.0</td>\n",
       "      <td>7.019891e+07</td>\n",
       "      <td>4.011150e+07</td>\n",
       "      <td>15001352.47</td>\n",
       "      <td>3.627072e+07</td>\n",
       "      <td>6.128952e+07</td>\n",
       "      <td>1.019937e+08</td>\n",
       "      <td>1.540426e+08</td>\n",
       "    </tr>\n",
       "    <tr>\n",
       "      <th>电蚊香套装</th>\n",
       "      <td>36.0</td>\n",
       "      <td>6.052237e+05</td>\n",
       "      <td>7.905252e+05</td>\n",
       "      <td>33232.95</td>\n",
       "      <td>1.064713e+05</td>\n",
       "      <td>2.263255e+05</td>\n",
       "      <td>9.182515e+05</td>\n",
       "      <td>3.606142e+06</td>\n",
       "    </tr>\n",
       "    <tr>\n",
       "      <th>盘香灭蟑香蚊香盘</th>\n",
       "      <td>36.0</td>\n",
       "      <td>6.988421e+06</td>\n",
       "      <td>7.340759e+06</td>\n",
       "      <td>449199.41</td>\n",
       "      <td>1.227319e+06</td>\n",
       "      <td>4.280573e+06</td>\n",
       "      <td>1.011202e+07</td>\n",
       "      <td>2.811858e+07</td>\n",
       "    </tr>\n",
       "    <tr>\n",
       "      <th>蚊香加热器</th>\n",
       "      <td>36.0</td>\n",
       "      <td>9.204170e+05</td>\n",
       "      <td>1.226545e+06</td>\n",
       "      <td>34076.91</td>\n",
       "      <td>8.683504e+04</td>\n",
       "      <td>3.164230e+05</td>\n",
       "      <td>1.407050e+06</td>\n",
       "      <td>5.032467e+06</td>\n",
       "    </tr>\n",
       "    <tr>\n",
       "      <th>蚊香液</th>\n",
       "      <td>36.0</td>\n",
       "      <td>2.367506e+07</td>\n",
       "      <td>2.973022e+07</td>\n",
       "      <td>482889.01</td>\n",
       "      <td>2.628064e+06</td>\n",
       "      <td>8.395108e+06</td>\n",
       "      <td>3.980283e+07</td>\n",
       "      <td>1.050396e+08</td>\n",
       "    </tr>\n",
       "    <tr>\n",
       "      <th>蚊香片</th>\n",
       "      <td>36.0</td>\n",
       "      <td>3.559793e+06</td>\n",
       "      <td>4.508172e+06</td>\n",
       "      <td>109108.05</td>\n",
       "      <td>4.661788e+05</td>\n",
       "      <td>1.443026e+06</td>\n",
       "      <td>6.210521e+06</td>\n",
       "      <td>1.596195e+07</td>\n",
       "    </tr>\n",
       "    <tr>\n",
       "      <th>防霉防蛀片</th>\n",
       "      <td>36.0</td>\n",
       "      <td>5.012875e+06</td>\n",
       "      <td>2.085349e+06</td>\n",
       "      <td>1274810.96</td>\n",
       "      <td>3.451924e+06</td>\n",
       "      <td>5.332902e+06</td>\n",
       "      <td>6.410655e+06</td>\n",
       "      <td>8.825870e+06</td>\n",
       "    </tr>\n",
       "  </tbody>\n",
       "</table>\n",
       "</div>"
      ],
      "text/plain": [
       "          count          mean           std          min           25%  \\\n",
       "灭鼠杀虫剂      36.0  7.019891e+07  4.011150e+07  15001352.47  3.627072e+07   \n",
       "电蚊香套装      36.0  6.052237e+05  7.905252e+05     33232.95  1.064713e+05   \n",
       "盘香灭蟑香蚊香盘   36.0  6.988421e+06  7.340759e+06    449199.41  1.227319e+06   \n",
       "蚊香加热器      36.0  9.204170e+05  1.226545e+06     34076.91  8.683504e+04   \n",
       "蚊香液        36.0  2.367506e+07  2.973022e+07    482889.01  2.628064e+06   \n",
       "蚊香片        36.0  3.559793e+06  4.508172e+06    109108.05  4.661788e+05   \n",
       "防霉防蛀片      36.0  5.012875e+06  2.085349e+06   1274810.96  3.451924e+06   \n",
       "\n",
       "                   50%           75%           max  \n",
       "灭鼠杀虫剂     6.128952e+07  1.019937e+08  1.540426e+08  \n",
       "电蚊香套装     2.263255e+05  9.182515e+05  3.606142e+06  \n",
       "盘香灭蟑香蚊香盘  4.280573e+06  1.011202e+07  2.811858e+07  \n",
       "蚊香加热器     3.164230e+05  1.407050e+06  5.032467e+06  \n",
       "蚊香液       8.395108e+06  3.980283e+07  1.050396e+08  \n",
       "蚊香片       1.443026e+06  6.210521e+06  1.596195e+07  \n",
       "防霉防蛀片     5.332902e+06  6.410655e+06  8.825870e+06  "
      ]
     },
     "execution_count": 8,
     "metadata": {},
     "output_type": "execute_result"
    }
   ],
   "source": [
    "df.describe().T"
   ]
  },
  {
   "cell_type": "markdown",
   "metadata": {},
   "source": [
    "- 判断是否有空值"
   ]
  },
  {
   "cell_type": "code",
   "execution_count": 9,
   "metadata": {
    "ExecuteTime": {
     "end_time": "2020-10-26T07:28:01.436198Z",
     "start_time": "2020-10-26T07:28:01.427221Z"
    }
   },
   "outputs": [
    {
     "data": {
      "text/plain": [
       "时间          False\n",
       "灭鼠杀虫剂       False\n",
       "电蚊香套装       False\n",
       "盘香灭蟑香蚊香盘    False\n",
       "蚊香加热器       False\n",
       "蚊香液         False\n",
       "蚊香片         False\n",
       "防霉防蛀片       False\n",
       "dtype: bool"
      ]
     },
     "execution_count": 9,
     "metadata": {},
     "output_type": "execute_result"
    }
   ],
   "source": [
    "df.isnull().any()\n",
    "# df.isna().mean(axis=1)"
   ]
  },
  {
   "cell_type": "markdown",
   "metadata": {},
   "source": [
    "- 抽取所有的月份作为单独一列"
   ]
  },
  {
   "cell_type": "code",
   "execution_count": 10,
   "metadata": {
    "ExecuteTime": {
     "end_time": "2020-10-26T07:28:01.444176Z",
     "start_time": "2020-10-26T07:28:01.439190Z"
    }
   },
   "outputs": [],
   "source": [
    "month = df[\"时间\"].dt.month"
   ]
  },
  {
   "cell_type": "markdown",
   "metadata": {},
   "source": [
    "- 循环预测2018年11月、12月各子类目的销售额"
   ]
  },
  {
   "cell_type": "code",
   "execution_count": 11,
   "metadata": {
    "ExecuteTime": {
     "end_time": "2020-10-26T07:28:01.490067Z",
     "start_time": "2020-10-26T07:28:01.446171Z"
    },
    "scrolled": true
   },
   "outputs": [
    {
     "name": "stderr",
     "output_type": "stream",
     "text": [
      "<ipython-input-11-22988ea14ef4>:4: FutureWarning: The pandas.datetime class is deprecated and will be removed from pandas in a future version. Import from datetime module instead.\n",
      "  y_hat = [pd.datetime(2018,i,1)]\n",
      "<ipython-input-11-22988ea14ef4>:2: UserWarning: Boolean Series key will be reindexed to match DataFrame index.\n",
      "  dm = df[month == i]  # 从df中抽取对应月份的记录\n",
      "<ipython-input-11-22988ea14ef4>:4: FutureWarning: The pandas.datetime class is deprecated and will be removed from pandas in a future version. Import from datetime module instead.\n",
      "  y_hat = [pd.datetime(2018,i,1)]\n"
     ]
    }
   ],
   "source": [
    "for i in [11, 12]:\n",
    "    dm = df[month == i]  # 从df中抽取对应月份的记录\n",
    "    x_train = np.array(dm[\"时间\"].dt.year).reshape(-1, 1)  # 取出年份\n",
    "    y_hat = [pd.datetime(2018, i, 1)]\n",
    "    for j in range(1, len(dm.columns)):  # 遍历对应月份的每个种类\n",
    "        y_train = dm.iloc[:, j]  # 获取对应种类的交易金额作为训练样本集目标值\n",
    "        reg = LinearRegression()\n",
    "        reg.fit(x_train, y_train)\n",
    "        y_predict = reg.predict(\n",
    "            np.array([2018]).reshape(-1, 1))  # 得到我们想要得到的预测值\n",
    "        y_hat.append(y_predict)\n",
    "    newrow = pd.DataFrame(dict(zip(df.columns, y_hat)))  # 将结果变成DataFrame\n",
    "    df = newrow.append(df)  # 将预测的DataFrame追加到df中"
   ]
  },
  {
   "cell_type": "code",
   "execution_count": 12,
   "metadata": {
    "ExecuteTime": {
     "end_time": "2020-10-26T07:28:01.501024Z",
     "start_time": "2020-10-26T07:28:01.493048Z"
    }
   },
   "outputs": [],
   "source": [
    "df.reset_index(drop=True, inplace=True)"
   ]
  },
  {
   "cell_type": "code",
   "execution_count": 13,
   "metadata": {
    "ExecuteTime": {
     "end_time": "2020-10-26T07:28:01.512997Z",
     "start_time": "2020-10-26T07:28:01.505015Z"
    }
   },
   "outputs": [],
   "source": [
    "df = df[df[\"时间\"].dt.year != 2015]  # 拿到除2015年之外的所有年份"
   ]
  },
  {
   "cell_type": "markdown",
   "metadata": {},
   "source": [
    "   - 添加新列用来存储每天的交易金额总和"
   ]
  },
  {
   "cell_type": "code",
   "execution_count": 14,
   "metadata": {
    "ExecuteTime": {
     "end_time": "2020-10-26T07:28:01.528949Z",
     "start_time": "2020-10-26T07:28:01.515985Z"
    }
   },
   "outputs": [],
   "source": [
    "df[\"colsum\"] = df.sum(axis=1)"
   ]
  },
  {
   "cell_type": "markdown",
   "metadata": {},
   "source": [
    "- 插入一个年分列“year”"
   ]
  },
  {
   "cell_type": "code",
   "execution_count": 18,
   "metadata": {
    "ExecuteTime": {
     "end_time": "2020-10-26T07:29:26.298935Z",
     "start_time": "2020-10-26T07:29:26.281996Z"
    },
    "scrolled": false
   },
   "outputs": [
    {
     "data": {
      "text/html": [
       "<div>\n",
       "<style scoped>\n",
       "    .dataframe tbody tr th:only-of-type {\n",
       "        vertical-align: middle;\n",
       "    }\n",
       "\n",
       "    .dataframe tbody tr th {\n",
       "        vertical-align: top;\n",
       "    }\n",
       "\n",
       "    .dataframe thead th {\n",
       "        text-align: right;\n",
       "    }\n",
       "</style>\n",
       "<table border=\"1\" class=\"dataframe\">\n",
       "  <thead>\n",
       "    <tr style=\"text-align: right;\">\n",
       "      <th></th>\n",
       "      <th>时间</th>\n",
       "      <th>year</th>\n",
       "      <th>灭鼠杀虫剂</th>\n",
       "      <th>电蚊香套装</th>\n",
       "      <th>盘香灭蟑香蚊香盘</th>\n",
       "      <th>蚊香加热器</th>\n",
       "      <th>蚊香液</th>\n",
       "      <th>蚊香片</th>\n",
       "      <th>防霉防蛀片</th>\n",
       "      <th>colsum</th>\n",
       "    </tr>\n",
       "  </thead>\n",
       "  <tbody>\n",
       "    <tr>\n",
       "      <th>0</th>\n",
       "      <td>2018-12-01</td>\n",
       "      <td>2018</td>\n",
       "      <td>5.256763e+07</td>\n",
       "      <td>50204.53</td>\n",
       "      <td>9.285543e+05</td>\n",
       "      <td>86849.166667</td>\n",
       "      <td>3.081492e+06</td>\n",
       "      <td>4.268126e+05</td>\n",
       "      <td>3958717.58</td>\n",
       "      <td>6.110026e+07</td>\n",
       "    </tr>\n",
       "    <tr>\n",
       "      <th>1</th>\n",
       "      <td>2018-11-01</td>\n",
       "      <td>2018</td>\n",
       "      <td>7.175250e+07</td>\n",
       "      <td>38692.61</td>\n",
       "      <td>1.801319e+06</td>\n",
       "      <td>193874.386667</td>\n",
       "      <td>5.543204e+06</td>\n",
       "      <td>7.766270e+05</td>\n",
       "      <td>6678677.55</td>\n",
       "      <td>8.678489e+07</td>\n",
       "    </tr>\n",
       "    <tr>\n",
       "      <th>2</th>\n",
       "      <td>2018-10-01</td>\n",
       "      <td>2018</td>\n",
       "      <td>1.136548e+08</td>\n",
       "      <td>106531.29</td>\n",
       "      <td>4.171283e+06</td>\n",
       "      <td>315639.480000</td>\n",
       "      <td>7.814546e+06</td>\n",
       "      <td>1.032414e+06</td>\n",
       "      <td>8541153.59</td>\n",
       "      <td>1.356363e+08</td>\n",
       "    </tr>\n",
       "    <tr>\n",
       "      <th>3</th>\n",
       "      <td>2018-09-01</td>\n",
       "      <td>2018</td>\n",
       "      <td>1.440261e+08</td>\n",
       "      <td>105666.63</td>\n",
       "      <td>6.784500e+06</td>\n",
       "      <td>457366.410000</td>\n",
       "      <td>1.065497e+07</td>\n",
       "      <td>1.566652e+06</td>\n",
       "      <td>8825870.43</td>\n",
       "      <td>1.724211e+08</td>\n",
       "    </tr>\n",
       "    <tr>\n",
       "      <th>4</th>\n",
       "      <td>2018-08-01</td>\n",
       "      <td>2018</td>\n",
       "      <td>1.540426e+08</td>\n",
       "      <td>201467.03</td>\n",
       "      <td>1.070968e+07</td>\n",
       "      <td>746513.130000</td>\n",
       "      <td>1.783558e+07</td>\n",
       "      <td>2.617149e+06</td>\n",
       "      <td>6320153.44</td>\n",
       "      <td>1.924731e+08</td>\n",
       "    </tr>\n",
       "  </tbody>\n",
       "</table>\n",
       "</div>"
      ],
      "text/plain": [
       "          时间  year         灭鼠杀虫剂      电蚊香套装      盘香灭蟑香蚊香盘          蚊香加热器  \\\n",
       "0 2018-12-01  2018  5.256763e+07   50204.53  9.285543e+05   86849.166667   \n",
       "1 2018-11-01  2018  7.175250e+07   38692.61  1.801319e+06  193874.386667   \n",
       "2 2018-10-01  2018  1.136548e+08  106531.29  4.171283e+06  315639.480000   \n",
       "3 2018-09-01  2018  1.440261e+08  105666.63  6.784500e+06  457366.410000   \n",
       "4 2018-08-01  2018  1.540426e+08  201467.03  1.070968e+07  746513.130000   \n",
       "\n",
       "            蚊香液           蚊香片       防霉防蛀片        colsum  \n",
       "0  3.081492e+06  4.268126e+05  3958717.58  6.110026e+07  \n",
       "1  5.543204e+06  7.766270e+05  6678677.55  8.678489e+07  \n",
       "2  7.814546e+06  1.032414e+06  8541153.59  1.356363e+08  \n",
       "3  1.065497e+07  1.566652e+06  8825870.43  1.724211e+08  \n",
       "4  1.783558e+07  2.617149e+06  6320153.44  1.924731e+08  "
      ]
     },
     "execution_count": 18,
     "metadata": {},
     "output_type": "execute_result"
    }
   ],
   "source": [
    "df.insert(1, \"year\", df[\"时间\"].dt.year)\n",
    "df.head()"
   ]
  },
  {
   "cell_type": "markdown",
   "metadata": {},
   "source": [
    "- 根据年分组并求和"
   ]
  },
  {
   "cell_type": "code",
   "execution_count": 30,
   "metadata": {
    "ExecuteTime": {
     "end_time": "2020-10-26T07:32:08.344881Z",
     "start_time": "2020-10-26T07:32:08.324935Z"
    }
   },
   "outputs": [
    {
     "data": {
      "text/html": [
       "<div>\n",
       "<style scoped>\n",
       "    .dataframe tbody tr th:only-of-type {\n",
       "        vertical-align: middle;\n",
       "    }\n",
       "\n",
       "    .dataframe tbody tr th {\n",
       "        vertical-align: top;\n",
       "    }\n",
       "\n",
       "    .dataframe thead th {\n",
       "        text-align: right;\n",
       "    }\n",
       "</style>\n",
       "<table border=\"1\" class=\"dataframe\">\n",
       "  <thead>\n",
       "    <tr style=\"text-align: right;\">\n",
       "      <th></th>\n",
       "      <th>year</th>\n",
       "      <th>灭鼠杀虫剂</th>\n",
       "      <th>电蚊香套装</th>\n",
       "      <th>盘香灭蟑香蚊香盘</th>\n",
       "      <th>蚊香加热器</th>\n",
       "      <th>蚊香液</th>\n",
       "      <th>蚊香片</th>\n",
       "      <th>防霉防蛀片</th>\n",
       "      <th>colsum</th>\n",
       "    </tr>\n",
       "  </thead>\n",
       "  <tbody>\n",
       "    <tr>\n",
       "      <th>0</th>\n",
       "      <td>2016</td>\n",
       "      <td>6.080471e+08</td>\n",
       "      <td>7666572.12</td>\n",
       "      <td>4.785285e+07</td>\n",
       "      <td>5.905205e+06</td>\n",
       "      <td>1.704905e+08</td>\n",
       "      <td>27980839.47</td>\n",
       "      <td>50023001.94</td>\n",
       "      <td>9.179661e+08</td>\n",
       "    </tr>\n",
       "    <tr>\n",
       "      <th>1</th>\n",
       "      <td>2017</td>\n",
       "      <td>8.477740e+08</td>\n",
       "      <td>9377531.68</td>\n",
       "      <td>8.635539e+07</td>\n",
       "      <td>1.055284e+07</td>\n",
       "      <td>3.300656e+08</td>\n",
       "      <td>49068587.96</td>\n",
       "      <td>62678822.18</td>\n",
       "      <td>1.395873e+09</td>\n",
       "    </tr>\n",
       "    <tr>\n",
       "      <th>2</th>\n",
       "      <td>2018</td>\n",
       "      <td>1.137893e+09</td>\n",
       "      <td>4537682.09</td>\n",
       "      <td>1.180885e+08</td>\n",
       "      <td>1.683672e+07</td>\n",
       "      <td>3.582077e+08</td>\n",
       "      <td>51845921.56</td>\n",
       "      <td>72701365.23</td>\n",
       "      <td>1.760111e+09</td>\n",
       "    </tr>\n",
       "  </tbody>\n",
       "</table>\n",
       "</div>"
      ],
      "text/plain": [
       "   year         灭鼠杀虫剂       电蚊香套装      盘香灭蟑香蚊香盘         蚊香加热器           蚊香液  \\\n",
       "0  2016  6.080471e+08  7666572.12  4.785285e+07  5.905205e+06  1.704905e+08   \n",
       "1  2017  8.477740e+08  9377531.68  8.635539e+07  1.055284e+07  3.300656e+08   \n",
       "2  2018  1.137893e+09  4537682.09  1.180885e+08  1.683672e+07  3.582077e+08   \n",
       "\n",
       "           蚊香片        防霉防蛀片        colsum  \n",
       "0  27980839.47  50023001.94  9.179661e+08  \n",
       "1  49068587.96  62678822.18  1.395873e+09  \n",
       "2  51845921.56  72701365.23  1.760111e+09  "
      ]
     },
     "execution_count": 30,
     "metadata": {},
     "output_type": "execute_result"
    }
   ],
   "source": [
    "by_year = df.groupby(\"year\").sum().reset_index()\n",
    "by_year.head()"
   ]
  },
  {
   "cell_type": "markdown",
   "metadata": {
    "ExecuteTime": {
     "end_time": "2020-10-26T07:30:47.657245Z",
     "start_time": "2020-10-26T07:30:47.652275Z"
    }
   },
   "source": [
    "# 按照年份查看驱虫市场总体变化趋势"
   ]
  },
  {
   "cell_type": "code",
   "execution_count": 45,
   "metadata": {
    "ExecuteTime": {
     "end_time": "2020-10-26T07:39:02.687747Z",
     "start_time": "2020-10-26T07:39:02.368601Z"
    },
    "scrolled": true
   },
   "outputs": [
    {
     "data": {
      "image/png": "[encoded data removed]",
      "text/plain": [
       "<Figure size 288x288 with 1 Axes>"
      ]
     },
     "metadata": {},
     "output_type": "display_data"
    }
   ],
   "source": [
    "sns.relplot(x=\"year\", y=\"colsum\", data=by_year,\n",
    "            kind=\"line\", marker=\"o\", height=4)\n",
    "plt.xticks(by_year.year, rotation=45)  # 设置x轴的刻度值，旋转刻度值\n",
    "plt.title(\"近三年驱虫市场趋势\")\n",
    "plt.xlabel(\"年份\")\n",
    "plt.ylabel(\"总交易额\")\n",
    "plt.show()"
   ]
  },
  {
   "cell_type": "markdown",
   "metadata": {},
   "source": [
    "## 驱虫市场潜力分析-各市场变化趋势\n"
   ]
  },
  {
   "cell_type": "markdown",
   "metadata": {},
   "source": [
    "###  查看各类目市场三年内销售额总和的变化趋势"
   ]
  },
  {
   "cell_type": "code",
   "execution_count": 75,
   "metadata": {
    "ExecuteTime": {
     "end_time": "2020-10-26T08:27:36.635641Z",
     "start_time": "2020-10-26T08:27:36.085222Z"
    },
    "scrolled": true
   },
   "outputs": [
    {
     "data": {
      "image/png": "[encoded data removed]",
      "text/plain": [
       "<Figure size 600x450 with 1 Axes>"
      ]
     },
     "metadata": {},
     "output_type": "display_data"
    }
   ],
   "source": [
    "# 没有说明X轴与Y轴的数据，则元数据的索引值作为X轴，每一列的值作为Y轴的数据\n",
    "# dashes = False 默认只能显示六种样式，设置False则不区分\n",
    "sns.set_style()\n",
    "plt.subplots(figsize=(8, 6), dpi=75)\n",
    "sns.lineplot(data=by_year.set_index(\"year\").iloc[:, :-1], marker=\"^\", dashes=False, palette=\"Set1\")\n",
    "for x, y in zip(by_year[\"year\"], by_year[\"灭鼠杀虫剂\"]):\n",
    "    # 在图中x，y中加入文本    ha垂直对齐   va 水平对齐\n",
    "    plt.text(x=x, y=y,s=\"%.3e\"% y,ha=\"center\",va=\"bottom\") # 保留三位小数 并以e的次方来表示数据\n",
    "plt.title(\"近三年各类目市场销量趋势分析\")\n",
    "plt.xticks(by_year.year, rotation=45)\n",
    "plt.xlabel(\"年份\")\n",
    "plt.ylabel(\"总交易额\")\n",
    "plt.show()"
   ]
  },
  {
   "cell_type": "markdown",
   "metadata": {},
   "source": [
    "### 驱虫市场的潜力分析 - 各市场占比\n",
    "- 查看各类目市场三年内销售额总和的占比"
   ]
  },
  {
   "cell_type": "code",
   "execution_count": 86,
   "metadata": {
    "ExecuteTime": {
     "end_time": "2020-10-26T09:00:06.217265Z",
     "start_time": "2020-10-26T09:00:06.211307Z"
    }
   },
   "outputs": [],
   "source": [
    "# div  除  axis = 0 从下往上   axis = 1 从左到右 \n",
    "by_year_per = by_year.iloc[:,1:-1].div(by_year[\"colsum\"],axis=0)  # 每个种类在当年的销售额占比\n",
    "by_year_per.index = by_year.year # 将by_year_per 的索引设为 by_year 年份"
   ]
  },
  {
   "cell_type": "markdown",
   "metadata": {
    "ExecuteTime": {
     "end_time": "2020-10-26T09:01:46.804312Z",
     "start_time": "2020-10-26T09:01:46.532018Z"
    }
   },
   "source": [
    "- 直接使用DataFrame画图"
   ]
  },
  {
   "cell_type": "code",
   "execution_count": 122,
   "metadata": {
    "ExecuteTime": {
     "end_time": "2020-10-26T09:18:54.153037Z",
     "start_time": "2020-10-26T09:18:53.874783Z"
    }
   },
   "outputs": [
    {
     "data": {
      "image/png": "[encoded data removed]",
      "text/plain": [
       "<Figure size 720x576 with 1 Axes>"
      ]
     },
     "metadata": {},
     "output_type": "display_data"
    }
   ],
   "source": [
    "# stacked = True 是否设为堆积条图\n",
    "by_year_per.plot(figsize=(10,8),kind = \"bar\",\n",
    "                 stacked=True,title=\"各类目市场三年内销售额总和的占比\",colormap=\"Set2\")\n",
    "plt.xlabel(\"年份\")\n",
    "plt.xticks(rotation = 45)\n",
    "plt.ylabel(\"总交易额\")\n",
    "# 对于条形图来说 位置x从0开始\n",
    "for x,y in zip(range(len(by_year_per)),by_year_per[\"灭鼠杀虫剂\"]):\n",
    "    plt.text(x,y/2,str(round(y*100,2))+\"%\",ha=\"center\",va=\"bottom\",size=20,color=\"w\")\n",
    "plt.show()"
   ]
  },
  {
   "cell_type": "code",
   "execution_count": 97,
   "metadata": {
    "ExecuteTime": {
     "end_time": "2020-10-26T09:07:31.726379Z",
     "start_time": "2020-10-26T09:07:31.720389Z"
    }
   },
   "outputs": [],
   "source": []
  },
  {
   "cell_type": "code",
   "execution_count": null,
   "metadata": {},
   "outputs": [],
   "source": []
  },
  {
   "cell_type": "code",
   "execution_count": null,
   "metadata": {},
   "outputs": [],
   "source": []
  },
  {
   "cell_type": "code",
   "execution_count": null,
   "metadata": {},
   "outputs": [],
   "source": []
  },
  {
   "cell_type": "code",
   "execution_count": null,
   "metadata": {},
   "outputs": [],
   "source": []
  },
  {
   "cell_type": "code",
   "execution_count": null,
   "metadata": {},
   "outputs": [],
   "source": []
  }
 ],
 "metadata": {
  "hide_input": false,
  "kernelspec": {
   "display_name": "Python 3",
   "language": "python",
   "name": "python3"
  },
  "language_info": {
   "codemirror_mode": {
    "name": "ipython",
    "version": 3
   },
   "file_extension": ".py",
   "mimetype": "text/x-python",
   "name": "python",
   "nbconvert_exporter": "python",
   "pygments_lexer": "ipython3",
   "version": "3.8.3"
  },
  "toc": {
   "base_numbering": 1,
   "nav_menu": {},
   "number_sections": true,
   "sideBar": true,
   "skip_h1_title": false,
   "title_cell": "Table of Contents",
   "title_sidebar": "Contents",
   "toc_cell": false,
   "toc_position": {},
   "toc_section_display": true,
   "toc_window_display": false
  },
  "varInspector": {
   "cols": {
    "lenName": 16,
    "lenType": 16,
    "lenVar": 40
   },
   "kernels_config": {
    "python": {
     "delete_cmd_postfix": "",
     "delete_cmd_prefix": "del ",
     "library": "var_list.py",
     "varRefreshCmd": "print(var_dic_list())"
    },
    "r": {
     "delete_cmd_postfix": ") ",
     "delete_cmd_prefix": "rm(",
     "library": "var_list.r",
     "varRefreshCmd": "cat(var_dic_list()) "
    }
   },
   "types_to_exclude": [
    "module",
    "function",
    "builtin_function_or_method",
    "instance",
    "_Feature"
   ],
   "window_display": false
  }
 },
 "nbformat": 4,
 "nbformat_minor": 4
}
